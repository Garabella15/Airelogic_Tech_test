{
 "cells": [
  {
   "cell_type": "code",
   "execution_count": 2,
   "id": "5436e4ad",
   "metadata": {},
   "outputs": [],
   "source": [
    "import pandas as pd\n",
    "import fuzzywuzzy as fuzz\n",
    "import musicbrainzngs\n",
    "import requests\n",
    "import json"
   ]
  },
  {
   "cell_type": "code",
   "execution_count": 3,
   "id": "4303bdbe",
   "metadata": {},
   "outputs": [],
   "source": [
    "musicbrainzngs.set_useragent(\"python-musicbrainzngs\", \"0.7.1\", \"https://github.com/Garabella15\")"
   ]
  },
  {
   "cell_type": "code",
   "execution_count": 4,
   "id": "015b613f",
   "metadata": {},
   "outputs": [
    {
     "name": "stdout",
     "output_type": "stream",
     "text": [
      "Enter name:Snoop Dogg\n"
     ]
    }
   ],
   "source": [
    "artist = str(input('Enter name:'))"
   ]
  },
  {
   "cell_type": "code",
   "execution_count": 12,
   "id": "17e10196",
   "metadata": {},
   "outputs": [],
   "source": [
    "def search_artists():\n",
    "    global artist\n",
    "    result = musicbrainzngs.search_artists(artist=artist, strict=True)\n",
    "    print(result)\n",
    "#     for artist in result['artist-list']:\n",
    "#             if artist['name'] == artist:\n",
    "#                 id = artist.get('id')\n",
    "#                 artist_id = id\n",
    "#             print(artist_id)\n",
    "#                 return artist_id"
   ]
  },
  {
   "cell_type": "code",
   "execution_count": null,
   "id": "b03992e7",
   "metadata": {},
   "outputs": [],
   "source": []
  }
 ],
 "metadata": {
  "kernelspec": {
   "display_name": "Python 3 (ipykernel)",
   "language": "python",
   "name": "python3"
  },
  "language_info": {
   "codemirror_mode": {
    "name": "ipython",
    "version": 3
   },
   "file_extension": ".py",
   "mimetype": "text/x-python",
   "name": "python",
   "nbconvert_exporter": "python",
   "pygments_lexer": "ipython3",
   "version": "3.10.2"
  }
 },
 "nbformat": 4,
 "nbformat_minor": 5
}
