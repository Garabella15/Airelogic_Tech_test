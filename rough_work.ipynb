{
 "cells": [
  {
   "cell_type": "code",
   "execution_count": 3,
   "id": "f97b5b8a",
   "metadata": {},
   "outputs": [],
   "source": [
    "import pandas as pd\n",
    "from fuzzywuzzy import fuzz\n",
    "\n",
    "Kelly = {'\"12345678\"',\n",
    " '\"Snoop\" Dogg \\'n\\' the Wax',\n",
    " '(D.J.) Wake Up',\n",
    " '(Intro) I Love to Give You Light',\n",
    " '(O.J.) Wake Up',\n",
    " '(Tear ’em Off) Me & My Doggz',\n",
    " '(Tear ’em Off) Me and My Doggz',\n",
    " '---- You',\n",
    " '1,2 1,2',\n",
    " '10 Lil Crips',\n",
    " '10 Lil’ Crips',\n",
    " '12345678',\n",
    " '180 Days',\n",
    " '1800',\n",
    " '1800 (Snippet)',\n",
    " '187',\n",
    " '187 (Deep Cover remix)',\n",
    " '187 UM',\n",
    " '187 Ulm',\n",
    " '187 Um',\n",
    " '187um',\n",
    " '187um (Deep Cover remix)',\n",
    " '187um (street version)',\n",
    " '1st We Blaze It Up',\n",
    " '2 All My People',\n",
    " '2 Freaks',\n",
    " '2 Min Warning',\n",
    " '2 Minute Warning',\n",
    " '2 Of Americas Most Wanted',\n",
    " '2 Of Americaz Most Wanted',\n",
    " \"2 in da Mornin' (Mind Blowin')\",\n",
    " '2 of Americas Most Wanted',\n",
    " '2 of Americaz Most Wanted',\n",
    " '2 of Americaz Most Wanted (DJ Na$ mix)',\n",
    " '2 of America’s Most Wanted',\n",
    " '2 of Amerikas Most Wanted',\n",
    " '2 of Amerikaz Most Wanted',\n",
    " '2 of Amerikaz Most Wanted (clean version)',\n",
    " '2 of Amerikaz Most Wanted (instrumental)',\n",
    " '20 Dollars to My Name',\n",
    " '20 Minutes',\n",
    " '2001',\n",
    " '21 Jump St.',\n",
    " '21 Jumpstreet',\n",
    " '211',\n",
    " '220',\n",
    " '3 Kings',\n",
    " '31 Flavaz',\n",
    " '3’s Company',\n",
    " '420 (Blaze Up)',\n",
    " '4ever N A Day',\n",
    " '4ever n a Day',\n",
    " '4ever n a Day (G Mixx)',\n",
    " '5th Symphony Eruption',\n",
    " '6 AM',\n",
    " '6 ’n da Mornin’',\n",
    " '6 ’n the Mornin’ (GMX)',\n",
    " '630',\n",
    " '6:30',\n",
    " '75 to 85',\n",
    " '9 Mm',\n",
    " '9mm',\n",
    " 'A Bitch I Knew',\n",
    " 'A Força Está Em Nós',\n",
    " 'A Message 2 Fat Cuzz',\n",
    " 'A Nigga Witta Gun',\n",
    " \"A Pimp's Christmas Song\",\n",
    " 'A Story to Tell',\n",
    " 'A Word Witchya! (intro)',\n",
    " 'A força está em nós',\n",
    " 'A.D.I.D.A.C.',\n",
    " 'Acrobat (edit mix)',\n",
    " 'Acrobat (extended mix)',\n",
    " '[unknown]',\n",
    " '[untitled]',\n",
    " '“Chuurch”',\n",
    " '“Who I Am (What’s My Name)?”',\n",
    " '“X”'}\n",
    "elements = list(Kelly)\n",
    "\n",
    "results = [[name, [], 0] for name in elements]\n",
    "\n",
    "for (i, element) in enumerate(elements):\n",
    "    for (j, choice) in enumerate(elements[i+1:]):\n",
    "        if fuzz.ratio(element, choice) >= 90:\n",
    "            results[i][2] += 1\n",
    "            results[i][1].append(choice)\n",
    "            results[j+i+1][2] += 1\n",
    "            results[j+i+1][1].append(element)\n",
    "\n",
    "data = pd.DataFrame(results, columns=['name', 'duplicates', 'duplicate_count'])"
   ]
  },
  {
   "cell_type": "code",
   "execution_count": 4,
   "id": "66893c13",
   "metadata": {},
   "outputs": [
    {
     "data": {
      "text/html": [
       "<div>\n",
       "<style scoped>\n",
       "    .dataframe tbody tr th:only-of-type {\n",
       "        vertical-align: middle;\n",
       "    }\n",
       "\n",
       "    .dataframe tbody tr th {\n",
       "        vertical-align: top;\n",
       "    }\n",
       "\n",
       "    .dataframe thead th {\n",
       "        text-align: right;\n",
       "    }\n",
       "</style>\n",
       "<table border=\"1\" class=\"dataframe\">\n",
       "  <thead>\n",
       "    <tr style=\"text-align: right;\">\n",
       "      <th></th>\n",
       "      <th>name</th>\n",
       "      <th>duplicates</th>\n",
       "      <th>duplicate_count</th>\n",
       "    </tr>\n",
       "  </thead>\n",
       "  <tbody>\n",
       "    <tr>\n",
       "      <th>0</th>\n",
       "      <td>2 of Amerikaz Most Wanted (clean version)</td>\n",
       "      <td>[]</td>\n",
       "      <td>0</td>\n",
       "    </tr>\n",
       "    <tr>\n",
       "      <th>1</th>\n",
       "      <td>20 Dollars to My Name</td>\n",
       "      <td>[]</td>\n",
       "      <td>0</td>\n",
       "    </tr>\n",
       "    <tr>\n",
       "      <th>2</th>\n",
       "      <td>1800</td>\n",
       "      <td>[]</td>\n",
       "      <td>0</td>\n",
       "    </tr>\n",
       "    <tr>\n",
       "      <th>3</th>\n",
       "      <td>420 (Blaze Up)</td>\n",
       "      <td>[]</td>\n",
       "      <td>0</td>\n",
       "    </tr>\n",
       "    <tr>\n",
       "      <th>4</th>\n",
       "      <td>2 of Amerikas Most Wanted</td>\n",
       "      <td>[2 of Americas Most Wanted, 2 of Amerikaz Most...</td>\n",
       "      <td>5</td>\n",
       "    </tr>\n",
       "    <tr>\n",
       "      <th>...</th>\n",
       "      <td>...</td>\n",
       "      <td>...</td>\n",
       "      <td>...</td>\n",
       "    </tr>\n",
       "    <tr>\n",
       "      <th>73</th>\n",
       "      <td>(Intro) I Love to Give You Light</td>\n",
       "      <td>[]</td>\n",
       "      <td>0</td>\n",
       "    </tr>\n",
       "    <tr>\n",
       "      <th>74</th>\n",
       "      <td>2 Of Americas Most Wanted</td>\n",
       "      <td>[2 of Amerikas Most Wanted, 2 Of Americaz Most...</td>\n",
       "      <td>5</td>\n",
       "    </tr>\n",
       "    <tr>\n",
       "      <th>75</th>\n",
       "      <td>3’s Company</td>\n",
       "      <td>[]</td>\n",
       "      <td>0</td>\n",
       "    </tr>\n",
       "    <tr>\n",
       "      <th>76</th>\n",
       "      <td>187 Um</td>\n",
       "      <td>[187 Ulm]</td>\n",
       "      <td>1</td>\n",
       "    </tr>\n",
       "    <tr>\n",
       "      <th>77</th>\n",
       "      <td>(D.J.) Wake Up</td>\n",
       "      <td>[(O.J.) Wake Up]</td>\n",
       "      <td>1</td>\n",
       "    </tr>\n",
       "  </tbody>\n",
       "</table>\n",
       "<p>78 rows × 3 columns</p>\n",
       "</div>"
      ],
      "text/plain": [
       "                                         name  \\\n",
       "0   2 of Amerikaz Most Wanted (clean version)   \n",
       "1                       20 Dollars to My Name   \n",
       "2                                        1800   \n",
       "3                              420 (Blaze Up)   \n",
       "4                   2 of Amerikas Most Wanted   \n",
       "..                                        ...   \n",
       "73           (Intro) I Love to Give You Light   \n",
       "74                  2 Of Americas Most Wanted   \n",
       "75                                3’s Company   \n",
       "76                                     187 Um   \n",
       "77                             (D.J.) Wake Up   \n",
       "\n",
       "                                           duplicates  duplicate_count  \n",
       "0                                                  []                0  \n",
       "1                                                  []                0  \n",
       "2                                                  []                0  \n",
       "3                                                  []                0  \n",
       "4   [2 of Americas Most Wanted, 2 of Amerikaz Most...                5  \n",
       "..                                                ...              ...  \n",
       "73                                                 []                0  \n",
       "74  [2 of Amerikas Most Wanted, 2 Of Americaz Most...                5  \n",
       "75                                                 []                0  \n",
       "76                                          [187 Ulm]                1  \n",
       "77                                   [(O.J.) Wake Up]                1  \n",
       "\n",
       "[78 rows x 3 columns]"
      ]
     },
     "execution_count": 4,
     "metadata": {},
     "output_type": "execute_result"
    }
   ],
   "source": [
    "data"
   ]
  },
  {
   "cell_type": "code",
   "execution_count": 8,
   "id": "f026d107",
   "metadata": {},
   "outputs": [],
   "source": [
    "ray = data['name']"
   ]
  },
  {
   "cell_type": "code",
   "execution_count": 9,
   "id": "e16385f2",
   "metadata": {},
   "outputs": [
    {
     "data": {
      "text/plain": [
       "0     2 of Amerikaz Most Wanted (clean version)\n",
       "1                         20 Dollars to My Name\n",
       "2                                          1800\n",
       "3                                420 (Blaze Up)\n",
       "4                     2 of Amerikas Most Wanted\n",
       "                        ...                    \n",
       "73             (Intro) I Love to Give You Light\n",
       "74                    2 Of Americas Most Wanted\n",
       "75                                  3’s Company\n",
       "76                                       187 Um\n",
       "77                               (D.J.) Wake Up\n",
       "Name: name, Length: 78, dtype: object"
      ]
     },
     "execution_count": 9,
     "metadata": {},
     "output_type": "execute_result"
    }
   ],
   "source": [
    "ray"
   ]
  },
  {
   "cell_type": "code",
   "execution_count": 10,
   "id": "ba55ec15",
   "metadata": {},
   "outputs": [
    {
     "name": "stdout",
     "output_type": "stream",
     "text": [
      "Note: you may need to restart the kernel to use updated packages.\n"
     ]
    },
    {
     "name": "stderr",
     "output_type": "stream",
     "text": [
      "ERROR: Could not find a version that satisfies the requirement urllib.request (from versions: none)\n",
      "ERROR: No matching distribution found for urllib.request\n",
      "WARNING: You are using pip version 21.2.4; however, version 22.1.2 is available.\n",
      "You should consider upgrading via the 'C:\\Users\\User\\Desktop\\Airelogic Technical Test\\.venv\\Scripts\\python.exe -m pip install --upgrade pip' command.\n"
     ]
    }
   ],
   "source": [
    "pip install urllib.request"
   ]
  },
  {
   "cell_type": "code",
   "execution_count": 14,
   "id": "b96bf28c",
   "metadata": {},
   "outputs": [
    {
     "name": "stdout",
     "output_type": "stream",
     "text": [
      "b'{\"lyrics\":\"Sometimes I feel lost like a runaway\\\\r\\\\n[? ]\\\\r\\\\nReap while I stay\\\\r\\\\nGetting Richard (richer) like Pryor\\\\r\\\\nNeed to put the gun away\\\\r\\\\nCus I got pryors\\\\n\\\\nIt\\'s hard to stay rollin when the world full of riders\\\\n\\\\nBullet tip on fire\\\\n\\\\nFlyin down sunset\\\\n\\\\nMotivated to win\\\\n\\\\nLike I ain\\'t won yet\\\\n\\\\nTake shit over\\\\n\\\\nHell naw I ain\\'t done yet\\\\n\\\\nI LBC ya\\'ll bringin?\\\\n\\\\nTonight it\\'s going down like free fall\\\\n\\\\nChevy bouncin up and down like a fuckin see saw\\\\n\\\\nTrippin off hate no hee haw\\\\n\\\\nAll blacks locs on the loc\\\\n\\\\nActin like I don\\'t see ya\\'ll\\\\n\\\\nDoing that shit to da mean dogg\\\\n\\\\nWhen I bring it to you\\\\n\\\\nYou be like what you mean dogg?\\\\n\\\\nThen we go back and forth like it\\'s ping pong\\\\n\\\\nKnowin I should just ring ya bell ding dong\\\\n\\\\nBut that\\'s one thing about this shit partner\\\\n\\\\nEvery move is so watched by these rich boxes\\\\n\\\\nSo why should I lose all my rich sponsors\\\\n\\\\nI\\'m gone then you suddenly hip hoppin\\\\n\\\\nShit, sip the gin then I\\'m in the wind\\\\n\\\\nPop a? like an m n m\\\\n\\\\nSo strong yet a nigga thin\\\\n\\\\nRappers stay sayin Slim so Shady but ain\\'t talking Eminem\\\\n\\\\nSo fuck you him and him\\\\n\\\\nI was gangbangin before a nigga mtv\\\\n\\\\nNo facade I went from the yard to a 3 car garage\\\\n\\\\nTo instant manaj just vintage, relentless\\\\n\\\\nI mean this I promise\\\\n\\\\nNo Suge, No Dre, Ida did this regardless\\\\n\\\\nAnd that\\'s what I\\'m supposed to think\\\\n\\\\nFlinch at me like I\\'m supposed to blink\\\\n\\\\nMotherfucka, this crip still, hard to swallow like a big pill\\\\n\\\\nPushin 40s still a big deal\\\\n\\\\nPonytail still swanging, hair still braided\\\\n\\\\nLaker to a Clipper I won\\'t be faded\\\\n\\\\nNigga! So buzz on that shit\\\\n\\\\nBackflip back to plack shit\\\\n\\\\nBlue red white to black shit\\\\n\\\\nBut for the green I send a whole motherfuckin team to clack shit\\\\n\\\\nReact to mack shit\\\\n\\\\nProblem, terrorist\\\\n\\\\nFuck this rap shit\"}'\n"
     ]
    }
   ],
   "source": [
    "for song_title in ray:\n",
    "    if artist=\n"
   ]
  },
  {
   "cell_type": "code",
   "execution_count": 6,
   "id": "6c5a47ef",
   "metadata": {},
   "outputs": [
    {
     "name": "stdout",
     "output_type": "stream",
     "text": [
      "561\n"
     ]
    }
   ],
   "source": [
    "from urllib import response\n",
    "import requests\n",
    "import json\n",
    "\n",
    "# specify Vairables\n",
    "\n",
    "artist = 'Snoop Dogg'\n",
    "Song_title = 'Terradectacal'\n",
    "url = 'https://api.lyrics.ovh/v1/'+ artist + '/' + Song_title\n",
    "Words = []\n",
    "\n",
    "# fetching lyrics\n",
    "\n",
    "response = requests.get(url)\n",
    "json_data=json.loads(response.content)\n",
    "lyrics = json_data['lyrics']\n",
    "\n",
    "print(len(lyrics.strip().split(\" \")))\n",
    "# counting the words in the songs\n",
    "# for word in lyrics:\n",
    "#     count(word)\n",
    "# print(word)"
   ]
  },
  {
   "cell_type": "code",
   "execution_count": null,
   "id": "9310fa5f",
   "metadata": {},
   "outputs": [],
   "source": []
  }
 ],
 "metadata": {
  "kernelspec": {
   "display_name": "Python 3 (ipykernel)",
   "language": "python",
   "name": "python3"
  },
  "language_info": {
   "codemirror_mode": {
    "name": "ipython",
    "version": 3
   },
   "file_extension": ".py",
   "mimetype": "text/x-python",
   "name": "python",
   "nbconvert_exporter": "python",
   "pygments_lexer": "ipython3",
   "version": "3.10.2"
  }
 },
 "nbformat": 4,
 "nbformat_minor": 5
}
